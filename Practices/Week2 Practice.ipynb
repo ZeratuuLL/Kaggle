{
 "cells": [
  {
   "cell_type": "code",
   "execution_count": 1,
   "metadata": {},
   "outputs": [],
   "source": [
    "import numpy as np\n",
    "import pandas as pd\n",
    "from sklearn.model_selection import train_test_split\n",
    "from sklearn.linear_model import LogisticRegression\n",
    "from sklearn.metrics import f1_score, roc_auc_score\n",
    "\n",
    "import warnings\n",
    "warnings.filterwarnings(\"ignore\")\n",
    "\n",
    "import matplotlib.pyplot as plt"
   ]
  },
  {
   "cell_type": "markdown",
   "metadata": {},
   "source": [
    "## Metrics"
   ]
  },
  {
   "cell_type": "code",
   "execution_count": 2,
   "metadata": {},
   "outputs": [],
   "source": [
    "def find_TP(y_true, y_pred):\n",
    "    # counts the number of true positives (y_true = 1, y_pred = 1)\n",
    "    return sum((y_true == 1) & (y_pred == 1))\n",
    "def find_FN(y_true, y_pred):\n",
    "    # counts the number of false negatives (y_true = 1, y_pred = 0)\n",
    "    return sum((y_true == 1) & (y_pred == 0))\n",
    "def find_FP(y_true, y_pred):\n",
    "    # counts the number of false positives (y_true = 0, y_pred = 1)\n",
    "    return sum((y_true == 0) & (y_pred == 1))\n",
    "def find_TN(y_true, y_pred):\n",
    "    # counts the number of true negatives (y_true = 0, y_pred = 0)\n",
    "    return sum((y_true == 0) & (y_pred == 0))\n",
    "\n",
    "def find_conf_matrix_values(y_true,y_pred):\n",
    "    # calculate TP, FN, FP, TN\n",
    "    TP = find_TP(y_true,y_pred)\n",
    "    FN = find_FN(y_true,y_pred)\n",
    "    FP = find_FP(y_true,y_pred)\n",
    "    TN = find_TN(y_true,y_pred)\n",
    "    return TP,FN,FP,TN\n",
    "def my_confusion_matrix(y_true, y_pred):\n",
    "    TP,FN,FP,TN = find_conf_matrix_values(y_true,y_pred)\n",
    "    return np.array([[TN,FP],[FN,TP]])"
   ]
  },
  {
   "cell_type": "code",
   "execution_count": 3,
   "metadata": {},
   "outputs": [],
   "source": [
    "def my_accuracy_score(y_true, y_pred):\n",
    "    # calculates the fraction of samples predicted correctly\n",
    "    TP,FN,FP,TN = find_conf_matrix_values(y_true,y_pred)\n",
    "    return (TP+TN)/(TP+FN+FP+TN)\n",
    "\n",
    "def my_precision_score(y_true, y_pred):\n",
    "    # calculates the fraction of predicted positives samples that are actually positive\n",
    "    TP,FN,FP,TN = find_conf_matrix_values(y_true,y_pred)\n",
    "    return TP/(TP+FP)\n",
    "\n",
    "def my_recall_score(y_true, y_pred):\n",
    "    # calculates the fraction of positive samples predicted correctly\n",
    "    TP,FN,FP,TN = find_conf_matrix_values(y_true,y_pred)\n",
    "    return TP/(TP+FN)\n",
    "\n",
    "def my_f1_score(y_true, y_pred):\n",
    "    # calculates the F1 score\n",
    "    recall = my_recall_score(y_true,y_pred)\n",
    "    precision = my_precision_score(y_true,y_pred)\n",
    "    return 2/(1/recall + 1/precision)"
   ]
  },
  {
   "cell_type": "markdown",
   "metadata": {},
   "source": [
    "## Prediction"
   ]
  },
  {
   "cell_type": "code",
   "execution_count": 4,
   "metadata": {},
   "outputs": [
    {
     "data": {
      "text/plain": [
       "Index(['Time', 'V1', 'V2', 'V3', 'V4', 'V5', 'V6', 'V7', 'V8', 'V9', 'V10',\n",
       "       'V11', 'V12', 'V13', 'V14', 'V15', 'V16', 'V17', 'V18', 'V19', 'V20',\n",
       "       'V21', 'V22', 'V23', 'V24', 'V25', 'V26', 'V27', 'V28', 'Amount',\n",
       "       'Class', 'Hour'],\n",
       "      dtype='object')"
      ]
     },
     "execution_count": 4,
     "metadata": {},
     "output_type": "execute_result"
    }
   ],
   "source": [
    "data = pd.read_csv('creditcard.csv')\n",
    "data['Hour'] = data['Time'].apply(lambda x : np.ceil(x/3600)%24)\n",
    "data.columns"
   ]
  },
  {
   "cell_type": "code",
   "execution_count": 5,
   "metadata": {},
   "outputs": [],
   "source": [
    "X = data.drop(['Time', 'Class'], axis=1).values\n",
    "y = data['Class'].values"
   ]
  },
  {
   "cell_type": "code",
   "execution_count": 6,
   "metadata": {},
   "outputs": [],
   "source": [
    "X_train, X_test, y_train, y_test = train_test_split(X, y, test_size = 0.3)"
   ]
  },
  {
   "cell_type": "markdown",
   "metadata": {},
   "source": [
    "In practice I found that the optimal value is very small so we have some extra values near 0"
   ]
  },
  {
   "cell_type": "code",
   "execution_count": 7,
   "metadata": {},
   "outputs": [
    {
     "data": {
      "text/plain": [
       "array([0.00000000e+00, 1.66666667e-03, 3.33333333e-03, 5.00000000e-03,\n",
       "       6.66666667e-03, 8.33333333e-03, 1.00000000e-02, 1.16666667e-02,\n",
       "       1.33333333e-02, 1.50000000e-02, 1.66666667e-02, 1.83333333e-02,\n",
       "       2.00000000e-02, 2.16666667e-02, 2.33333333e-02, 2.50000000e-02,\n",
       "       2.66666667e-02, 2.83333333e-02, 3.00000000e-02, 3.16666667e-02,\n",
       "       3.33333333e-02, 3.50000000e-02, 3.66666667e-02, 3.83333333e-02,\n",
       "       4.00000000e-02, 4.16666667e-02, 4.33333333e-02, 4.50000000e-02,\n",
       "       4.66666667e-02, 4.83333333e-02, 5.00000000e-02, 5.16666667e-02,\n",
       "       5.33333333e-02, 5.50000000e-02, 5.66666667e-02, 5.83333333e-02,\n",
       "       6.00000000e-02, 6.16666667e-02, 6.33333333e-02, 6.50000000e-02,\n",
       "       6.66666667e-02, 6.83333333e-02, 7.00000000e-02, 7.16666667e-02,\n",
       "       7.33333333e-02, 7.50000000e-02, 7.66666667e-02, 7.83333333e-02,\n",
       "       8.00000000e-02, 8.16666667e-02, 8.33333333e-02, 8.50000000e-02,\n",
       "       8.66666667e-02, 8.83333333e-02, 9.00000000e-02, 9.16666667e-02,\n",
       "       9.33333333e-02, 9.50000000e-02, 9.66666667e-02, 9.83333333e-02,\n",
       "       1.00000000e-01, 2.00000000e-01, 3.00000000e-01, 4.00000000e-01,\n",
       "       5.00000000e-01, 6.00000000e-01, 7.00000000e-01, 8.00000000e-01,\n",
       "       9.00000000e-01, 1.00000000e+00, 1.10000000e+00, 1.20000000e+00,\n",
       "       1.30000000e+00, 1.40000000e+00, 1.50000000e+00, 1.60000000e+00,\n",
       "       1.70000000e+00, 1.80000000e+00, 1.90000000e+00, 2.00000000e+00])"
      ]
     },
     "execution_count": 7,
     "metadata": {},
     "output_type": "execute_result"
    }
   ],
   "source": [
    "weights = np.concatenate([np.linspace(0, 0.1, 61), np.linspace(0.1, 2, 20)[1:]])\n",
    "weights"
   ]
  },
  {
   "cell_type": "code",
   "execution_count": 8,
   "metadata": {},
   "outputs": [
    {
     "name": "stdout",
     "output_type": "stream",
     "text": [
      " 80/80 finished."
     ]
    }
   ],
   "source": [
    "f1_history = np.zeros(weights.shape)\n",
    "auc_history = np.zeros(weights.shape)\n",
    "\n",
    "for i in range(len(weights)):\n",
    "    model = LogisticRegression(class_weight={0:weights[i], 1:1})\n",
    "    model.fit(X_train, y_train)\n",
    "    predictions = model.predict(X_test)\n",
    "    decision_values = model.decision_function(X_test)\n",
    "    f1_history[i] = f1_score(y_test, predictions)\n",
    "    auc_history[i] = roc_auc_score(y_test, decision_values)\n",
    "    print('\\r {}/{} finished.'.format(i+1, len(weights)), end='')"
   ]
  },
  {
   "cell_type": "code",
   "execution_count": 9,
   "metadata": {},
   "outputs": [
    {
     "data": {
      "image/png": "[encoded data removed]",
      "text/plain": [
       "<Figure size 1080x576 with 2 Axes>"
      ]
     },
     "metadata": {},
     "output_type": "display_data"
    }
   ],
   "source": [
    "fig = plt.figure(figsize = (15, 8))\n",
    "fig.suptitle('Performance on testset')\n",
    "\n",
    "ax1 = fig.add_subplot(121)\n",
    "ax2 = fig.add_subplot(122)\n",
    "\n",
    "ax1.plot(weights, f1_history)\n",
    "ax1.set_title('F1 Score Trajectory')\n",
    "ax1.set_xlabel('weight')\n",
    "ax1.set_ylabel('f1 score')\n",
    "\n",
    "ax2.plot(weights, auc_history)\n",
    "ax2.set_title('AUC Trajectory')\n",
    "ax2.set_xlabel('weight')\n",
    "ax2.set_ylabel('AUC')\n",
    "\n",
    "plt.show()"
   ]
  }
 ],
 "metadata": {
  "kernelspec": {
   "display_name": "Python 3",
   "language": "python",
   "name": "python3"
  },
  "language_info": {
   "codemirror_mode": {
    "name": "ipython",
    "version": 3
   },
   "file_extension": ".py",
   "mimetype": "text/x-python",
   "name": "python",
   "nbconvert_exporter": "python",
   "pygments_lexer": "ipython3",
   "version": "3.6.8"
  }
 },
 "nbformat": 4,
 "nbformat_minor": 2
}
