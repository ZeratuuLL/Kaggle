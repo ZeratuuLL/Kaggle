{
 "cells": [
  {
   "cell_type": "code",
   "execution_count": 1,
   "metadata": {},
   "outputs": [],
   "source": [
    "import numpy as np\n",
    "import pandas as pd\n",
    "from sklearn.linear_model import LinearRegression"
   ]
  },
  {
   "cell_type": "code",
   "execution_count": 2,
   "metadata": {},
   "outputs": [],
   "source": [
    "class my_LinearRegression:\n",
    "    '''\n",
    "    This class is a realization of simple linear regression based on gradient descent\n",
    "    \n",
    "    It allows you to set the initialize learning rate, maximum number of gradient steps.\n",
    "    \n",
    "    You can also set simple rules for adjusting learning rate and early stopping\n",
    "    '''\n",
    "    \n",
    "    def __init__(self, alpha=0.1, n_rounds=100000, conditions={'step_norm':1, 'gradient_norm':float(1e-7)}):\n",
    "        '''\n",
    "        Params:\n",
    "        ===========================================\n",
    "        alpha: float. Initial learning rate\n",
    "        n_rounds: int. Maximum number of gradient steps\n",
    "        conditions: dictionary. Conditions for adjusting learning rate and early stopping\n",
    "            if the norm of current gradient vector is smaller than conditions['gradient_norm'], we stop training\n",
    "            if the norm of current step is larger than conditions['step_norm'], learning rate will be divided by 2\n",
    "        '''\n",
    "        self.alpha = alpha\n",
    "        self.n_rounds = n_rounds\n",
    "        self.conditions = conditions\n",
    "        \n",
    "    def fit(self, X, y, intercept=True):\n",
    "        '''\n",
    "        Params:\n",
    "        ===========================================\n",
    "        X: numpy array. The design matrix of linear regression\n",
    "        y: numpy array. Labels/targets\n",
    "        intercept: boolean. True if your X matrix does not have a column of 1s, which is for intercept.\n",
    "        '''\n",
    "        if intercept:\n",
    "            X = np.concatenate((np.ones((X.shape[0], 1)), X), axis=1)\n",
    "        \n",
    "        n = X.shape[0]\n",
    "        n_features = X.shape[1]\n",
    "        y = y.reshape(-1, 1)\n",
    "        beta = np.zeros((n_features, 1))\n",
    "        \n",
    "        for i in range(self.n_rounds):\n",
    "            \n",
    "            gradient = 2*np.matmul(np.matmul(X.T, X), beta) - 2*np.matmul(X.T, y)\n",
    "            gradient /= X.shape[0]\n",
    "            gradient_norm = np.sqrt(np.matmul(gradient.T, gradient))\n",
    "            if(gradient_norm<self.conditions['gradient_norm']):\n",
    "                break\n",
    "            while(gradient_norm>self.conditions['step_norm']/self.alpha):\n",
    "                self.alpha /= 2\n",
    "            beta -= self.alpha*gradient\n",
    "        \n",
    "        self.beta = beta\n",
    "        self.iterations = i+1\n",
    "        return beta.reshape(-1)\n",
    "    \n",
    "    def predict(X_new, intercept=True):\n",
    "        '''I am lazy and I wont fill this for now'''\n",
    "        predictions = None\n",
    "        return predictions"
   ]
  },
  {
   "cell_type": "code",
   "execution_count": 3,
   "metadata": {},
   "outputs": [
    {
     "data": {
      "text/plain": [
       "array([0.82696786, 0.23972746, 0.25027566, 0.10030799])"
      ]
     },
     "execution_count": 3,
     "metadata": {},
     "output_type": "execute_result"
    }
   ],
   "source": [
    "# 确认实现的LinearRegression函数得到的结果与sklearn中的LinearRegression的结果相同\n",
    "data = pd.read_csv('height_train.csv')\n",
    "my_lm = my_LinearRegression()\n",
    "my_lm.fit(data.loc[:,['father_height', 'mother_height', 'boy_dummy']].values, data.child_height.values)"
   ]
  },
  {
   "cell_type": "code",
   "execution_count": 4,
   "metadata": {},
   "outputs": [
    {
     "data": {
      "text/plain": [
       "(0.8274299645517063, array([0.23959427, 0.25013358, 0.10030806]))"
      ]
     },
     "execution_count": 4,
     "metadata": {},
     "output_type": "execute_result"
    }
   ],
   "source": [
    "lm = LinearRegression()\n",
    "lm.fit(data.loc[:,['father_height', 'mother_height', 'boy_dummy']].values, data.child_height.values)\n",
    "lm.intercept_, lm.coef_"
   ]
  },
  {
   "cell_type": "markdown",
   "metadata": {},
   "source": [
    "We can see there is a very small difference between my own LR method and the one in sklearn"
   ]
  }
 ],
 "metadata": {
  "kernelspec": {
   "display_name": "Python 3",
   "language": "python",
   "name": "python3"
  },
  "language_info": {
   "codemirror_mode": {
    "name": "ipython",
    "version": 3
   },
   "file_extension": ".py",
   "mimetype": "text/x-python",
   "name": "python",
   "nbconvert_exporter": "python",
   "pygments_lexer": "ipython3",
   "version": "3.6.8"
  }
 },
 "nbformat": 4,
 "nbformat_minor": 2
}
