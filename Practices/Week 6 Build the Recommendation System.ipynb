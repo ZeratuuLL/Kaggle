{
 "cells": [
  {
   "cell_type": "code",
   "execution_count": 1,
   "metadata": {},
   "outputs": [
    {
     "name": "stdout",
     "output_type": "stream",
     "text": [
      "Found 38665 books.\n"
     ]
    }
   ],
   "source": [
    "import json\n",
    "\n",
    "books = []\n",
    "\n",
    "with open('found_books_filtered.ndjson', 'r') as fin:\n",
    "    # Append each line to the books\n",
    "    books = [json.loads(l) for l in fin]\n",
    "\n",
    "# Remove non-book articles\n",
    "books_with_wikipedia = [book for book in books if 'Wikipedia:' in book[0]]\n",
    "books = [book for book in books if 'Wikipedia:' not in book[0]]\n",
    "print(f'Found {len(books)} books.')"
   ]
  },
  {
   "cell_type": "code",
   "execution_count": 2,
   "metadata": {},
   "outputs": [],
   "source": [
    "book_list = []\n",
    "link_list = []\n",
    "for book in books:\n",
    "    book_list += [book[0]]\n",
    "    link_list += book[2]"
   ]
  },
  {
   "cell_type": "code",
   "execution_count": 3,
   "metadata": {},
   "outputs": [
    {
     "data": {
      "text/plain": [
       "<Figure size 640x480 with 1 Axes>"
      ]
     },
     "metadata": {},
     "output_type": "display_data"
    },
    {
     "name": "stdout",
     "output_type": "stream",
     "text": [
      "Minimum number of links is 1\n"
     ]
    }
   ],
   "source": [
    "import matplotlib.pyplot as plt\n",
    "from collections import Counter\n",
    "\n",
    "counts = Counter([len(book[2]) for book in books])\n",
    "plt.bar(x = counts.keys(), height = counts.values())\n",
    "plt.show()\n",
    "print('Minimum number of links is',min(counts.values()))"
   ]
  },
  {
   "cell_type": "code",
   "execution_count": 4,
   "metadata": {
    "scrolled": true
   },
   "outputs": [
    {
     "data": {
      "text/plain": [
       "[('Hardcover', 7637),\n",
       " ('Paperback', 7457),\n",
       " ('Wikipedia:WikiProject Books', 6188),\n",
       " ('Wikipedia:WikiProject Novels', 6159),\n",
       " ('The New York Times', 4609),\n",
       " ('English language', 4130),\n",
       " ('United States', 3237),\n",
       " ('Science fiction', 3187),\n",
       " ('Publishers Weekly', 2790),\n",
       " ('science fiction', 2762),\n",
       " ('The Guardian', 2627),\n",
       " ('Kirkus Reviews', 2156),\n",
       " ('novel', 2022),\n",
       " ('paperback', 1585),\n",
       " ('Random House', 1538),\n",
       " ('HarperCollins', 1537),\n",
       " ('Doctor Who', 1332),\n",
       " ('fantasy', 1316),\n",
       " ('Category:American science fiction novels', 1313),\n",
       " ('hardcover', 1308),\n",
       " ('Category:American novels adapted into films', 1202),\n",
       " ('Simon  &  Schuster', 1186),\n",
       " ('Category:English-language books', 1175),\n",
       " (\"Children's literature\", 1170),\n",
       " ('Category:Debut novels', 1122),\n",
       " ('World War II', 1098),\n",
       " ('Fantasy novel', 1078),\n",
       " ('Doubleday (publisher)', 1071),\n",
       " ('The Washington Post', 1069),\n",
       " ('Category:American fantasy novels', 1066),\n",
       " ('New York Times', 1063),\n",
       " ('Novel', 1005),\n",
       " ('Category:American young adult novels', 978),\n",
       " ('The Independent', 944),\n",
       " ('Los Angeles Times', 925),\n",
       " ('Hardback', 918),\n",
       " ('Tor Books', 908),\n",
       " ('Penguin Books', 905),\n",
       " ('Category:HarperCollins books', 904),\n",
       " ('The New Yorker', 891),\n",
       " ('New York City', 891),\n",
       " ('United Kingdom', 890),\n",
       " ('Category:British novels adapted into films', 877),\n",
       " ('London', 862),\n",
       " ('Alfred A. Knopf', 835),\n",
       " ('Fantasy fiction', 803),\n",
       " ('Oxford University Press', 796),\n",
       " ('Fantasy', 792),\n",
       " ('Non-fiction', 781),\n",
       " ('Booklist', 775)]"
      ]
     },
     "execution_count": 4,
     "metadata": {},
     "output_type": "execute_result"
    }
   ],
   "source": [
    "# check the most common links too see if they are meaningful\n",
    "counter = Counter(link_list)\n",
    "sorted(counter.items(), key = lambda x : x[1], reverse = True)[:50]"
   ]
  },
  {
   "cell_type": "code",
   "execution_count": 5,
   "metadata": {},
   "outputs": [],
   "source": [
    "# pick some meaningless links by hand\n",
    "meaningless = ['Hardcover', 'Paperback', 'Wikipedia:WikiProject Books', 'Wikipedia:WikiProject Novels', 'The New York Times', 'English language',\n",
    "               'Publishers Weekly', 'Novel', 'novel', 'paperback', 'hardcover', 'Doubleday (publisher)', 'Hardback', 'Booklist']"
   ]
  },
  {
   "cell_type": "code",
   "execution_count": 6,
   "metadata": {},
   "outputs": [
    {
     "name": "stdout",
     "output_type": "stream",
     "text": [
      "Total number of books considered 38665\n"
     ]
    },
    {
     "data": {
      "image/png": "[encoded data removed]",
      "text/plain": [
       "<Figure size 432x288 with 1 Axes>"
      ]
     },
     "metadata": {},
     "output_type": "display_data"
    },
    {
     "name": "stdout",
     "output_type": "stream",
     "text": [
      "Minimum number of links is 1\n"
     ]
    }
   ],
   "source": [
    "# create a source and check number of links for each book\n",
    "source = {}\n",
    "for book in books:\n",
    "    book_name = book[0]\n",
    "    links = [link for link in book[2] if link not in meaningless]\n",
    "    source.update({book_name:links})\n",
    "\n",
    "print('Total number of books considered', len(source))\n",
    "counts = Counter([len(links) for links in source.values()])\n",
    "plt.bar(x = counts.keys(), height = counts.values())\n",
    "plt.show()\n",
    "print('Minimum number of links is',min(counts.values()))# make sure the minimum number is not 0"
   ]
  },
  {
   "cell_type": "code",
   "execution_count": 7,
   "metadata": {},
   "outputs": [
    {
     "data": {
      "text/plain": [
       "(38665, 327511)"
      ]
     },
     "execution_count": 7,
     "metadata": {},
     "output_type": "execute_result"
    }
   ],
   "source": [
    "book_list = list(set(book_list))\n",
    "link_list = list(set(link_list) - set(meaningless))\n",
    "len(book_list), len(link_list)"
   ]
  },
  {
   "cell_type": "code",
   "execution_count": 8,
   "metadata": {},
   "outputs": [],
   "source": [
    "book_to_num = dict(zip(book_list, range(len(book_list))))\n",
    "link_to_num = dict(zip(link_list, range(len(link_list))))"
   ]
  },
  {
   "cell_type": "code",
   "execution_count": 9,
   "metadata": {},
   "outputs": [],
   "source": [
    "num_to_book = dict(zip(book_to_num.values(), book_to_num.keys()))\n",
    "num_to_link = dict(zip(link_to_num.values(), link_to_num.keys()))"
   ]
  },
  {
   "cell_type": "code",
   "execution_count": 10,
   "metadata": {},
   "outputs": [
    {
     "name": "stdout",
     "output_type": "stream",
     "text": [
      "Time Usage : 1225.8569149971008\n"
     ]
    }
   ],
   "source": [
    "# to make things faster we use multiprocessing\n",
    "# without multiprocessing it's like 93s/1000 books on my laptop[]\n",
    "\n",
    "import time\n",
    "import random \n",
    "import numpy as np\n",
    "from multiprocessing import Pool\n",
    "\n",
    "num_neg_sample = 5\n",
    "ratio_neg_sample = None\n",
    "\n",
    "X = []\n",
    "Y = []\n",
    "t_start = time.time()\n",
    "if num_neg_sample is None or num_neg_sample<=0 or num_neg_sample>20:\n",
    "    num_neg_sample = 10\n",
    "if ratio_neg_sample is not None:\n",
    "    if ratio_neg_sample > 2:\n",
    "        ratio_neg_sample = 1\n",
    "def process_one_book(item):\n",
    "    book, links = item\n",
    "    X = []\n",
    "    y = []\n",
    "    for link in links:\n",
    "        X.append([book_to_num[book], link_to_num[link]])\n",
    "        y.append([1])\n",
    "    not_linked = set(link_list)-set(links)\n",
    "    if ratio_neg_sample is None:\n",
    "        num = min(len(not_linked)-1, num_neg_sample)\n",
    "    else:\n",
    "        num = min(len(not_linked)-1, ratio_neg_sample*len(source[book]))\n",
    "    for link in random.sample(not_linked, num):\n",
    "        X.append([book_to_num[book], link_to_num[link]])\n",
    "        y.append([0])\n",
    "    return X, y\n",
    "pool = Pool(10)\n",
    "results = pool.map(process_one_book, source.items())\n",
    "for x, y in results:\n",
    "    X += x\n",
    "    Y += y\n",
    "print('Time Usage :', time.time() - t_start)\n",
    "\n",
    "np.save('train_X.npy', np.array(X))\n",
    "np.save('train_y.npy', np.array(Y))"
   ]
  },
  {
   "cell_type": "code",
   "execution_count": 11,
   "metadata": {},
   "outputs": [
    {
     "name": "stderr",
     "output_type": "stream",
     "text": [
      "100%|██████████| 38665/38665 [1:01:24<00:00, 10.49it/s]\n"
     ]
    }
   ],
   "source": [
    "# the version without multiprocessing, just to compare time\n",
    "\n",
    "import tqdm\n",
    "\n",
    "def generate_training_set(source, ratio_neg_sample=None, num_neg_sample=5):\n",
    "    '''\n",
    "    source should be a dictionary of (book : links) pairs\n",
    "    ratio_neg_sample is the ratio of negative samples and positive samples for each book, maximum 2\n",
    "    num_neg_samples is the number of negative samples for each book, maximum 20\n",
    "    num_reg_samples will be activate if ratio_neg_sample is None\n",
    "    '''\n",
    "    X = []\n",
    "    y = []\n",
    "    if num_neg_sample is None or num_neg_sample<=0 or num_neg_sample>20:\n",
    "        num_neg_sample = 10\n",
    "    if ratio_neg_sample is not None:\n",
    "        if ratio_neg_sample > 2:\n",
    "            ratio_neg_sample = 1\n",
    "    for book in tqdm.tqdm(source.keys()):\n",
    "        for link in source[book]:\n",
    "            X.append([book_to_num[book], link_to_num[link]])\n",
    "            y.append([1])\n",
    "        not_linked = set(link_list)-set(source[book])\n",
    "        if ratio_neg_sample is None:\n",
    "            num = min(len(not_linked)-1, num_neg_sample)\n",
    "        else:\n",
    "            num = min(len(not_linked)-1, ratio_neg_sample*len(source[book]))\n",
    "        for link in random.sample(not_linked, num):\n",
    "            X.append([book_to_num[book], link_to_num[link]])\n",
    "            y.append([0])\n",
    "    return np.array(X), np.array(y)\n",
    "\n",
    "train = generate_training_set(source)\n",
    "\n",
    "#np.save('train_X.npy', train[0])\n",
    "#np.save('train_y.npy', train[1])"
   ]
  },
  {
   "cell_type": "code",
   "execution_count": 12,
   "metadata": {},
   "outputs": [
    {
     "name": "stderr",
     "output_type": "stream",
     "text": [
      "/Users/lifengwei/anaconda3/lib/python3.6/site-packages/h5py/__init__.py:36: FutureWarning: Conversion of the second argument of issubdtype from `float` to `np.floating` is deprecated. In future, it will be treated as `np.float64 == np.dtype(float).type`.\n",
      "  from ._conv import register_converters as _register_converters\n"
     ]
    },
    {
     "name": "stdout",
     "output_type": "stream",
     "text": [
      "WARNING:tensorflow:From /Users/lifengwei/anaconda3/lib/python3.6/site-packages/tensorflow/python/framework/op_def_library.py:263: colocate_with (from tensorflow.python.framework.ops) is deprecated and will be removed in a future version.\n",
      "Instructions for updating:\n",
      "Colocations handled automatically by placer.\n",
      "__________________________________________________________________________________________________\n",
      "Layer (type)                    Output Shape         Param #     Connected to                     \n",
      "==================================================================================================\n",
      "input_1 (InputLayer)            (None, 1)            0                                            \n",
      "__________________________________________________________________________________________________\n",
      "input_2 (InputLayer)            (None, 1)            0                                            \n",
      "__________________________________________________________________________________________________\n",
      "books (Embedding)               (None, 1, 50)        1933250     input_1[0][0]                    \n",
      "__________________________________________________________________________________________________\n",
      "links (Embedding)               (None, 1, 50)        16375550    input_2[0][0]                    \n",
      "__________________________________________________________________________________________________\n",
      "lambda_1 (Lambda)               (None, 50)           0           books[0][0]                      \n",
      "                                                                 links[0][0]                      \n",
      "__________________________________________________________________________________________________\n",
      "dot_1 (Dot)                     (None, 1)            0           lambda_1[0][0]                   \n",
      "                                                                 lambda_1[1][0]                   \n",
      "__________________________________________________________________________________________________\n",
      "activation_1 (Activation)       (None, 1)            0           dot_1[0][0]                      \n",
      "==================================================================================================\n",
      "Total params: 18,308,800\n",
      "Trainable params: 18,308,800\n",
      "Non-trainable params: 0\n",
      "__________________________________________________________________________________________________\n"
     ]
    },
    {
     "name": "stderr",
     "output_type": "stream",
     "text": [
      "Using TensorFlow backend.\n"
     ]
    }
   ],
   "source": [
    "#build, compile the model\n",
    "import tensorflow as tf\n",
    "from keras import optimizers\n",
    "from keras import backend as K\n",
    "from keras.layers import *\n",
    "from keras.models import Model\n",
    "\n",
    "def generate_model(length):\n",
    "    Embedding1 = Embedding(len(book_list), length, name='books')\n",
    "    Embedding2 = Embedding(len(link_list), length, name='links')\n",
    "    squeeze_layer = Lambda(lambda x : K.squeeze(x, axis=1))\n",
    "    books = Input(shape=(1,))\n",
    "    links = Input(shape=(1,))\n",
    "    X1 = Embedding1(books)\n",
    "    X2 = Embedding2(links)\n",
    "    squeezed_X1 = squeeze_layer(X1)\n",
    "    squeezed_X2 = squeeze_layer(X2)\n",
    "    output = Dot(axes=-1, normalize=True)([squeezed_X1, squeezed_X2])\n",
    "    output = Activation('sigmoid')(output)\n",
    "    model = Model(inputs = [books, links], outputs=[output])\n",
    "    return model\n",
    "\n",
    "model = generate_model(50)\n",
    "model.compile(optimizer=optimizers.Adam(0.001), loss='binary_crossentropy')\n",
    "model.summary()"
   ]
  },
  {
   "cell_type": "code",
   "execution_count": 13,
   "metadata": {},
   "outputs": [
    {
     "name": "stdout",
     "output_type": "stream",
     "text": [
      "WARNING:tensorflow:From /Users/lifengwei/anaconda3/lib/python3.6/site-packages/tensorflow/python/ops/math_ops.py:3066: to_int32 (from tensorflow.python.ops.math_ops) is deprecated and will be removed in a future version.\n",
      "Instructions for updating:\n",
      "Use tf.cast instead.\n",
      "Epoch 1/20\n",
      "1405479/1405479 [==============================] - 556s 396us/step - loss: 0.6457\n",
      "Epoch 2/20\n",
      "1405479/1405479 [==============================] - 561s 399us/step - loss: 0.4744\n",
      "Epoch 3/20\n",
      "1405479/1405479 [==============================] - 568s 404us/step - loss: 0.4284\n",
      "Epoch 4/20\n",
      "1405479/1405479 [==============================] - 561s 399us/step - loss: 0.4138\n",
      "Epoch 5/20\n",
      "1405479/1405479 [==============================] - 555s 395us/step - loss: 0.4071\n",
      "Epoch 6/20\n",
      "1405479/1405479 [==============================] - 559s 397us/step - loss: 0.4033\n",
      "Epoch 7/20\n",
      "1405479/1405479 [==============================] - 560s 398us/step - loss: 0.4006\n",
      "Epoch 8/20\n",
      "1405479/1405479 [==============================] - 559s 398us/step - loss: 0.3986\n",
      "Epoch 9/20\n",
      "1405479/1405479 [==============================] - 559s 398us/step - loss: 0.3969\n",
      "Epoch 10/20\n",
      "1405479/1405479 [==============================] - 559s 398us/step - loss: 0.3955\n",
      "Epoch 11/20\n",
      "1405479/1405479 [==============================] - 559s 398us/step - loss: 0.3943\n",
      "Epoch 12/20\n",
      "1405479/1405479 [==============================] - 562s 400us/step - loss: 0.3933\n",
      "Epoch 13/20\n",
      "1405479/1405479 [==============================] - 561s 399us/step - loss: 0.3924\n",
      "Epoch 14/20\n",
      "1405479/1405479 [==============================] - 560s 399us/step - loss: 0.3917\n",
      "Epoch 15/20\n",
      "1405479/1405479 [==============================] - 554s 394us/step - loss: 0.3910\n",
      "Epoch 16/20\n",
      "1405479/1405479 [==============================] - 556s 396us/step - loss: 0.3904\n",
      "Epoch 17/20\n",
      "1405479/1405479 [==============================] - 559s 398us/step - loss: 0.3898\n",
      "Epoch 18/20\n",
      "1405479/1405479 [==============================] - 558s 397us/step - loss: 0.3893\n",
      "Epoch 19/20\n",
      "1405479/1405479 [==============================] - 559s 398us/step - loss: 0.3889\n",
      "Epoch 20/20\n",
      "1405479/1405479 [==============================] - 561s 399us/step - loss: 0.3885\n"
     ]
    },
    {
     "data": {
      "text/plain": [
       "<keras.callbacks.History at 0x1120ebf98>"
      ]
     },
     "execution_count": 13,
     "metadata": {},
     "output_type": "execute_result"
    }
   ],
   "source": [
    "X = np.load('train_X.npy')\n",
    "Y = np.load('train_y.npy')\n",
    "books = X[:, [0]].astype('int')\n",
    "links = X[:, [1]].astype('int')\n",
    "labels = Y.astype('int')\n",
    "model.fit(x=[books, links], y=labels, batch_size=512, epochs=20)"
   ]
  },
  {
   "cell_type": "code",
   "execution_count": 14,
   "metadata": {},
   "outputs": [
    {
     "data": {
      "text/plain": [
       "(38665, 50)"
      ]
     },
     "execution_count": 14,
     "metadata": {},
     "output_type": "execute_result"
    }
   ],
   "source": [
    "book_vectors = model.get_layer('books').get_weights()[0]\n",
    "book_vectors /= np.sqrt(np.sum(book_vectors**2, axis=1, keepdims=True)+1e-6)#normalize\n",
    "book_vectors.shape"
   ]
  },
  {
   "cell_type": "code",
   "execution_count": 15,
   "metadata": {},
   "outputs": [],
   "source": [
    "def recommend_books(book_name, book_vectors, n=10):\n",
    "    if book_name not in book_list:\n",
    "        print('No such book')\n",
    "        return None\n",
    "    else:\n",
    "        vector = book_vectors[[book_to_num[book_name]], :]\n",
    "        inner_products = np.sum(vector*book_vectors, axis=1)\n",
    "        results = list(np.argsort(inner_products)[-(n+1):])\n",
    "        results.reverse()\n",
    "        return [num_to_book[num] for num in results[1:]]"
   ]
  },
  {
   "cell_type": "code",
   "execution_count": 16,
   "metadata": {},
   "outputs": [
    {
     "data": {
      "text/plain": [
       "['Drakon (novel)',\n",
       " 'Battlefield Earth (novel)',\n",
       " 'Walkaway (Doctorow novel)',\n",
       " 'Scythe (novel)',\n",
       " 'Camouflage (novel)',\n",
       " 'Empire (Card novel)',\n",
       " 'Unwind (novel)',\n",
       " 'The Accidental Time Machine',\n",
       " 'Deadline (Grant novel)',\n",
       " 'Annihilation (VanderMeer novel)']"
      ]
     },
     "execution_count": 16,
     "metadata": {},
     "output_type": "execute_result"
    }
   ],
   "source": [
    "recommend_books('Timescape', book_vectors, 10)"
   ]
  }
 ],
 "metadata": {
  "kernelspec": {
   "display_name": "Python 3",
   "language": "python",
   "name": "python3"
  },
  "language_info": {
   "codemirror_mode": {
    "name": "ipython",
    "version": 3
   },
   "file_extension": ".py",
   "mimetype": "text/x-python",
   "name": "python",
   "nbconvert_exporter": "python",
   "pygments_lexer": "ipython3",
   "version": "3.6.8"
  }
 },
 "nbformat": 4,
 "nbformat_minor": 2
}
