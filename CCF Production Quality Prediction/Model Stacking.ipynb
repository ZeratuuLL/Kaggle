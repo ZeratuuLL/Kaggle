{
 "cells": [
  {
   "cell_type": "code",
   "execution_count": 1,
   "metadata": {},
   "outputs": [],
   "source": [
    "import pandas as pd\n",
    "import numpy as np\n",
    "import matplotlib.pyplot as plt\n",
    "from sklearn.model_selection import GridSearchCV, StratifiedKFold\n",
    "from multiprocessing import Pool\n",
    "from transforms import *\n",
    "\n",
    "features = ['Parameter'+str(i) for i in [5, 6, 7, 8, 9, 10]]\n",
    "\n",
    "training = pd.read_csv('first_round_training_data.csv')\n",
    "testing = pd.read_csv('first_round_testing_data.csv')\n",
    "code = {'Pass':1, 'Good':2, 'Excellent':3, 'Fail':0}\n",
    "training['new_Quality'] = training['Quality_label'].apply(lambda x : code[x])\n",
    "\n",
    "N_split = 10\n",
    "common_cv = StratifiedKFold(n_splits=N_split, shuffle=True, random_state=214)\n",
    "indices = []\n",
    "for train_index, test_index in common_cv.split(training[features], training[['new_Quality']]):\n",
    "    indices.append([train_index, test_index])"
   ]
  },
  {
   "cell_type": "code",
   "execution_count": null,
   "metadata": {},
   "outputs": [],
   "source": [
    "#Create new features\n",
    "\n",
    "#Create models\n",
    "models = []\n",
    "feature_lists = []\n",
    "\n",
    "K = len(models)"
   ]
  },
  {
   "cell_type": "code",
   "execution_count": null,
   "metadata": {},
   "outputs": [],
   "source": [
    "#Use CV to create new features from models\n",
    "new_train_features = np.zeros((training.shape[0], 4*K))\n",
    "new_test_features = np.zeros((testing.shape[0], 4*K))\n",
    "\n",
    "i = 0\n",
    "for model, features in zip(models, feature_lists):\n",
    "    for j in range(N_split):\n",
    "        model.fit(training.loc[train_index[j][0], features], training.loc[train_index[j][0], 'new_Quality'])\n",
    "        new_train_features.loc[train_index[j][1], range(4*i, 4*i+4)] = model.predict_proba(training.loc[train_index[j][1], features])\n",
    "    model.fit(training[features], training['new_Quality'])\n",
    "    new_test_features.iloc[:, range(4*i, 4*i+4)] = model.predict_proba(testing[features])\n"
   ]
  }
 ],
 "metadata": {
  "kernelspec": {
   "display_name": "Python 3",
   "language": "python",
   "name": "python3"
  },
  "language_info": {
   "codemirror_mode": {
    "name": "ipython",
    "version": 3
   },
   "file_extension": ".py",
   "mimetype": "text/x-python",
   "name": "python",
   "nbconvert_exporter": "python",
   "pygments_lexer": "ipython3",
   "version": "3.6.8"
  }
 },
 "nbformat": 4,
 "nbformat_minor": 2
}
