{
 "cells": [
  {
   "cell_type": "code",
   "execution_count": 1,
   "metadata": {},
   "outputs": [],
   "source": [
    "import pandas as pd\n",
    "import numpy as np\n",
    "from catboost import CatBoostClassifier\n",
    "from sklearn.model_selection import GridSearchCV, StratifiedKFold, KFold\n",
    "from sklearn.decomposition import PCA\n",
    "from sklearn.metrics import log_loss, accuracy_score\n",
    "from collections import defaultdict\n",
    "from tqdm import tqdm\n",
    "from transforms import *\n",
    "import seaborn as sns\n",
    "import math\n",
    "\n",
    "import warnings\n",
    "warnings.filterwarnings(\"ignore\")\n",
    "\n",
    "import matplotlib.pyplot as plt"
   ]
  },
  {
   "cell_type": "code",
   "execution_count": 2,
   "metadata": {},
   "outputs": [],
   "source": [
    "pca = PCA()\n",
    "\n",
    "training = pd.read_csv('first_round_training_data.csv')\n",
    "testing = pd.read_csv('first_round_testing_data.csv')\n",
    "features = [\"Parameter5\",\"Parameter6\",\"Parameter7\",\"Parameter8\",\"Parameter9\",\"Parameter10\"]\n",
    "\n",
    "training[features] = np.log(training[features].values)/np.log(10)\n",
    "testing[features] = np.log(testing[features].values)/np.log(10)\n",
    "\n",
    "code = {'Pass':1, 'Good':2, 'Excellent':3, 'Fail':0}\n",
    "training['new_Quality'] = training['Quality_label'].apply(lambda x : code[x])\n",
    "\n",
    "N = 5\n",
    "\n",
    "skf = StratifiedKFold(n_splits=N, shuffle=False)\n",
    "indices = []\n",
    "for train_index, test_index in skf.split(training[features], training[['new_Quality']]):\n",
    "    indices.append([train_index, test_index])\n",
    "    \n",
    "for group in range(100):\n",
    "    name = 'group_%s'%group\n",
    "    training[name] = 0\n",
    "    kfold=KFold(n_splits=120, shuffle=True, random_state=group)\n",
    "    split=kfold.split(training[features])\n",
    "    i = 0\n",
    "    for train_index, valid_index in split:\n",
    "        training.iloc[valid_index, -1] = i\n",
    "        i+=1"
   ]
  },
  {
   "cell_type": "code",
   "execution_count": 3,
   "metadata": {},
   "outputs": [],
   "source": [
    "def normalize(values):\n",
    "    values = values/0.02\n",
    "    upper = np.ceil(values)\n",
    "    lower = np.floor(values)\n",
    "    for i in range(values.shape[0]):\n",
    "        smallest_error = 10000\n",
    "        for a in [upper[i, 0], lower[i, 0]]:\n",
    "            for b in [upper[i, 1], lower[i, 1]]:\n",
    "                for c in [upper[i, 2], lower[i, 2]]:\n",
    "                    for d in [upper[i, 3], lower[i, 3]]:\n",
    "                        if a+b+c+d == 50:\n",
    "                            new_value = np.array([a, b, c, d])\n",
    "                            new_error = np.mean(np.abs(new_value - values[i, :]))\n",
    "                            if new_error < smallest_error:\n",
    "                                smallest_error = new_error\n",
    "                                best_option = new_value\n",
    "        values[i, :] = best_option.copy()\n",
    "    return values*0.02\n",
    "\n",
    "def approx_score(probs, labels, groups):\n",
    "    labels = labels.reshape(-1, 1)\n",
    "    groups = groups.reshape(-1, 1)\n",
    "    matrix = np.concatenate([probs, labels==0, labels==1, labels==2, labels==3, groups], axis=1)\n",
    "    temp_frame = pd.DataFrame(data=matrix, \n",
    "                              columns=['prob1', 'prob2', 'prob3', 'prob4', 'label1', 'label2', 'label3', 'label4', 'group']\n",
    "                             )\n",
    "    temp_frame = temp_frame.groupby(['group']).mean()\n",
    "    matrix = temp_frame.values\n",
    "    mae1 = np.mean(np.abs(matrix[:, range(4)] - matrix[:, range(4, 8)]))\n",
    "    score1 = 1/(1+10*mae1)\n",
    "    rounded = normalize(matrix[:, range(4)])\n",
    "    mae2 = np.mean(np.abs(rounded - matrix[:, range(4, 8)]))\n",
    "    score2 = 1/(1+10*mae2)\n",
    "    return matrix[:, range(4)], rounded, (score1, score2)"
   ]
  },
  {
   "cell_type": "code",
   "execution_count": 4,
   "metadata": {},
   "outputs": [],
   "source": [
    "#train_all, test_all, new_features = get_all_WoE(training, testing, features)\n",
    "#new_values = pca.fit_transform(pd.concat([train_all[new_features], test_all[new_features]]))\n",
    "#train_all[new_features] = new_values[:6000, :].copy()\n",
    "#test_all[new_features] = new_values[6000:, :].copy()\n",
    "#new_features = new_features[:17]"
   ]
  },
  {
   "cell_type": "code",
   "execution_count": 5,
   "metadata": {},
   "outputs": [],
   "source": [
    "train_all, test_all = training.copy(), testing.copy()\n",
    "new_features = [\"Parameter5\",\"Parameter7\",\"Parameter8\",\"Parameter9\",\"Parameter10\"]"
   ]
  },
  {
   "cell_type": "code",
   "execution_count": 6,
   "metadata": {},
   "outputs": [],
   "source": [
    "def train_test(iterations, depth, learning_rate, l2_norm):\n",
    "    '''\n",
    "    This function returns the trained model as well as some metrics with given training parameters\n",
    "    \n",
    "    The group assignment is random and done before calling this function so that the results are based on the same assignments\n",
    "    \n",
    "    outputs:\n",
    "    ========\n",
    "    offline_score1 : mean of scores from 100 random group assignment with probabilities predicted from trained model\n",
    "    offline_score2 : mean of scores from 100 random group assignment with quantized probabilities\n",
    "    matrix : 100 prediction values based on given group assignments\n",
    "    rounded : 100 prediction values quantized to 0.02, based on given group assignments\n",
    "    probs1 : out of fold probability prediction of the model for each sample\n",
    "    probs2 : probability prediction for each sample in test data\n",
    "    probs3 : probability prediction for each group in test data\n",
    "    probs4 : quantized probability prediction for each group in test data\n",
    "    '''\n",
    "    model = CatBoostClassifier(iterations=iterations, \n",
    "                               depth=depth, \n",
    "                               learning_rate=learning_rate, \n",
    "                               silent=True, \n",
    "                               loss_function='MultiClass', \n",
    "                               l2_leaf_reg=l2_norm)\n",
    "    probs1 = np.zeros((6000, 4))\n",
    "    predictions = np.zeros(6000)\n",
    "    train_neg_log_loss = []\n",
    "    train_accuracy = []\n",
    "    matrix = np.zeros((100, 120, 4))\n",
    "    rounded = np.zeros((100, 120, 4))\n",
    "    for j in range(N):\n",
    "        train_index = indices[j][0]\n",
    "        test_index = indices[j][1]\n",
    "        counts = train_all.loc[train_index, 'new_Quality'].value_counts()\n",
    "        counts = dict(zip(counts.index.values, np.max(counts.values)/counts.values))\n",
    "        X_train = train_all.loc[train_index, new_features]\n",
    "        y_train = train_all.loc[train_index, ['new_Quality']]\n",
    "        weights = y_train['new_Quality'].apply(lambda x : counts[x])\n",
    "        X_test = train_all.loc[test_index, new_features]\n",
    "        #model.fit(X=X_train, y=y_train, sample_weight = weights)\n",
    "        model.fit(X=X_train, y=y_train)\n",
    "        probs1[test_index, :] = model.predict_proba(X_test)\n",
    "        predictions[test_index] = model.predict(X_test).reshape(-1)\n",
    "        train_accuracy.append(accuracy_score(y_train, model.predict(X_train)))\n",
    "        train_neg_log_loss.append(-log_loss(y_train, model.predict_proba(X_train)))\n",
    "    test_neg_log_loss = -log_loss(training['new_Quality'], probs1)\n",
    "    test_accuracy = accuracy_score(training['new_Quality'], predictions)\n",
    "    offline_score1 = []\n",
    "    offline_score2 = []\n",
    "    for j in range(100):\n",
    "        matrix[j, :, :], rounded[j, :, :], scores = approx_score(probs1, training['new_Quality'].values, training['group_{}'.format(j)].values)\n",
    "        offline_score1.append(scores[0])\n",
    "        offline_score2.append(scores[1])\n",
    "    \n",
    "    print(np.mean(offline_score1), np.mean(offline_score2), test_neg_log_loss, test_accuracy)\n",
    "    \n",
    "    model.fit(X=train_all[new_features], y=train_all['new_Quality'], verbose = 100)\n",
    "    probs2 = model.predict_proba(test_all[new_features])\n",
    "    testing['Fail ratio'] = 0\n",
    "    testing['Pass ratio'] = 0\n",
    "    testing['Good ratio'] = 0\n",
    "    testing['Excellent ratio'] = 0\n",
    "    testing[['Fail ratio', 'Pass ratio', 'Good ratio', 'Excellent ratio']] = probs2\n",
    "    submission = testing.groupby(['Group'], as_index=False).mean()\n",
    "    submission = submission[['Group', 'Excellent ratio', 'Good ratio', 'Pass ratio', 'Fail ratio']]\n",
    "    probs3 = submission[['Excellent ratio', 'Good ratio', 'Pass ratio', 'Fail ratio']].values\n",
    "    probs4 = normalize(probs3)\n",
    "    return offline_score1, offline_score2, matrix, rounded, probs1, probs2, probs3, probs4, model"
   ]
  },
  {
   "cell_type": "code",
   "execution_count": 7,
   "metadata": {},
   "outputs": [
    {
     "name": "stdout",
     "output_type": "stream",
     "text": [
      "0.6955763512630404 0.6965167733411398 -1.1136962616132138 0.515\n",
      "0:\tlearn: 1.3460874\ttotal: 10.6ms\tremaining: 5.31s\n",
      "100:\tlearn: 1.0872388\ttotal: 865ms\tremaining: 3.42s\n",
      "200:\tlearn: 1.0635109\ttotal: 1.73s\tremaining: 2.57s\n",
      "300:\tlearn: 1.0487187\ttotal: 2.64s\tremaining: 1.75s\n",
      "400:\tlearn: 1.0400634\ttotal: 3.61s\tremaining: 890ms\n",
      "499:\tlearn: 1.0334962\ttotal: 4.5s\tremaining: 0us\n"
     ]
    }
   ],
   "source": [
    "score1_1, score2_1, matrix1, rounded1, prob1_1, prob2_1, prob3_1, prob4_1, model1 = train_test(500, 4, 0.1, 10)"
   ]
  },
  {
   "cell_type": "code",
   "execution_count": 8,
   "metadata": {},
   "outputs": [
    {
     "name": "stdout",
     "output_type": "stream",
     "text": [
      "0.6941037688385727 0.695210435330861 -1.1351637811897706 0.5125\n",
      "0:\tlearn: 1.3810709\ttotal: 113ms\tremaining: 4m 13s\n",
      "100:\tlearn: 1.1483319\ttotal: 10s\tremaining: 3m 33s\n",
      "200:\tlearn: 1.0942578\ttotal: 19s\tremaining: 3m 13s\n",
      "300:\tlearn: 1.0721848\ttotal: 26.9s\tremaining: 2m 53s\n",
      "400:\tlearn: 1.0589994\ttotal: 34.2s\tremaining: 2m 37s\n",
      "500:\tlearn: 1.0494554\ttotal: 41.7s\tremaining: 2m 25s\n",
      "600:\tlearn: 1.0426779\ttotal: 48s\tremaining: 2m 11s\n",
      "700:\tlearn: 1.0366205\ttotal: 55.3s\tremaining: 2m 2s\n",
      "800:\tlearn: 1.0312240\ttotal: 1m 2s\tremaining: 1m 53s\n",
      "900:\tlearn: 1.0265400\ttotal: 1m 9s\tremaining: 1m 44s\n",
      "1000:\tlearn: 1.0222916\ttotal: 1m 16s\tremaining: 1m 34s\n",
      "1100:\tlearn: 1.0184207\ttotal: 1m 22s\tremaining: 1m 26s\n",
      "1200:\tlearn: 1.0129265\ttotal: 1m 30s\tremaining: 1m 18s\n",
      "1300:\tlearn: 1.0074233\ttotal: 1m 38s\tremaining: 1m 11s\n",
      "1400:\tlearn: 1.0020313\ttotal: 1m 45s\tremaining: 1m 4s\n",
      "1500:\tlearn: 0.9968868\ttotal: 1m 54s\tremaining: 57s\n",
      "1600:\tlearn: 0.9926627\ttotal: 2m 2s\tremaining: 49.7s\n",
      "1700:\tlearn: 0.9887813\ttotal: 2m 10s\tremaining: 42.1s\n",
      "1800:\tlearn: 0.9851804\ttotal: 2m 18s\tremaining: 34.6s\n",
      "1900:\tlearn: 0.9818867\ttotal: 2m 28s\tremaining: 27.2s\n",
      "2000:\tlearn: 0.9785260\ttotal: 2m 37s\tremaining: 19.6s\n",
      "2100:\tlearn: 0.9754044\ttotal: 2m 47s\tremaining: 11.9s\n",
      "2200:\tlearn: 0.9724770\ttotal: 2m 56s\tremaining: 3.92s\n",
      "2249:\tlearn: 0.9711723\ttotal: 3m 1s\tremaining: 0us\n"
     ]
    }
   ],
   "source": [
    "score1_2, score2_2, matrix2, rounded2, prob1_2, prob2_2, prob3_2, prob4_2, model2 = train_test(2250, 10, 0.01, 0)"
   ]
  },
  {
   "cell_type": "code",
   "execution_count": 9,
   "metadata": {},
   "outputs": [],
   "source": [
    "train_maes = []\n",
    "for i in range(100):\n",
    "    train_maes.append(np.mean(np.abs(matrix1[i, :, :] - matrix2[i, :, :])))\n",
    "    \n",
    "rounded_maes = []\n",
    "for i in range(100):\n",
    "    rounded_maes.append(np.mean(np.abs(rounded1[i, :, :] - rounded2[i, :, :])))"
   ]
  },
  {
   "cell_type": "code",
   "execution_count": 10,
   "metadata": {},
   "outputs": [
    {
     "data": {
      "image/png": "[encoded data removed]",
      "text/plain": [
       "<Figure size 432x288 with 1 Axes>"
      ]
     },
     "metadata": {},
     "output_type": "display_data"
    }
   ],
   "source": [
    "plt.boxplot(train_maes)\n",
    "plt.show()"
   ]
  },
  {
   "cell_type": "code",
   "execution_count": 11,
   "metadata": {},
   "outputs": [
    {
     "data": {
      "image/png": "[encoded data removed]",
      "text/plain": [
       "<Figure size 432x288 with 1 Axes>"
      ]
     },
     "metadata": {},
     "output_type": "display_data"
    }
   ],
   "source": [
    "plt.boxplot(rounded_maes)\n",
    "plt.show()"
   ]
  },
  {
   "cell_type": "code",
   "execution_count": 12,
   "metadata": {},
   "outputs": [
    {
     "data": {
      "text/plain": [
       "0.02738815241132719"
      ]
     },
     "execution_count": 12,
     "metadata": {},
     "output_type": "execute_result"
    }
   ],
   "source": [
    "np.mean(np.abs(prob1_1 - prob1_2))"
   ]
  },
  {
   "cell_type": "code",
   "execution_count": 13,
   "metadata": {},
   "outputs": [
    {
     "data": {
      "text/plain": [
       "0.022143302129449562"
      ]
     },
     "execution_count": 13,
     "metadata": {},
     "output_type": "execute_result"
    }
   ],
   "source": [
    "np.mean(np.abs(prob2_1 - prob2_2))"
   ]
  },
  {
   "cell_type": "code",
   "execution_count": 14,
   "metadata": {},
   "outputs": [
    {
     "data": {
      "text/plain": [
       "0.006698694997085729"
      ]
     },
     "execution_count": 14,
     "metadata": {},
     "output_type": "execute_result"
    }
   ],
   "source": [
    "np.mean(np.abs(prob3_1 - prob3_2))"
   ]
  },
  {
   "cell_type": "code",
   "execution_count": 15,
   "metadata": {},
   "outputs": [
    {
     "data": {
      "text/plain": [
       "0.007083333333333334"
      ]
     },
     "execution_count": 15,
     "metadata": {},
     "output_type": "execute_result"
    }
   ],
   "source": [
    "np.mean(np.abs(prob4_1 - prob4_2))"
   ]
  },
  {
   "cell_type": "code",
   "execution_count": 16,
   "metadata": {},
   "outputs": [
    {
     "data": {
      "image/png": "[encoded data removed]",
      "text/plain": [
       "<Figure size 432x288 with 1 Axes>"
      ]
     },
     "metadata": {},
     "output_type": "display_data"
    },
    {
     "name": "stdout",
     "output_type": "stream",
     "text": [
      "0.005711639356770326\n",
      "0.0011767800454068195\n"
     ]
    }
   ],
   "source": [
    "plt.scatter(score1_1, score1_2)\n",
    "plt.show()\n",
    "print(np.max(np.abs(np.array(score1_1) - np.array(score1_2))))\n",
    "print(np.max(np.abs( (1/np.array(score1_1)-1)/10 - (1/np.array(score1_2)-1)/10 )))"
   ]
  },
  {
   "cell_type": "code",
   "execution_count": 17,
   "metadata": {},
   "outputs": [
    {
     "data": {
      "image/png": "[encoded data removed]",
      "text/plain": [
       "<Figure size 432x288 with 1 Axes>"
      ]
     },
     "metadata": {},
     "output_type": "display_data"
    },
    {
     "name": "stdout",
     "output_type": "stream",
     "text": [
      "0.040000000000000036\n"
     ]
    }
   ],
   "source": [
    "plt.scatter(rounded1, rounded2)\n",
    "plt.show()\n",
    "print(np.max(np.abs(np.array(rounded1) - np.array(rounded2))))"
   ]
  },
  {
   "cell_type": "code",
   "execution_count": 18,
   "metadata": {},
   "outputs": [],
   "source": [
    "def compare_score(prob1, prob2):\n",
    "    '''\n",
    "    This function takes in the out of fold probability predictions for each sample in training set from two models\n",
    "    It generates a random group assignment and calculate the probability predictions, as well as quantized probability,\n",
    "    for each group based on input, as well as the score\n",
    "    Then it returns the MAE between predictions from two models, as well as their scores\n",
    "    \n",
    "    outputs:\n",
    "    ========\n",
    "    mae1 : MAE for probability predictions for groups of two models\n",
    "    mae2 : MAE for quantized probability predictions for groups of two models\n",
    "    score1 : score for first model\n",
    "    score2 : score for second model\n",
    "    '''\n",
    "    groups = []\n",
    "    for i in range(120):\n",
    "        groups += [i]*50\n",
    "    groups = np.random.choice(a=groups, replace=False, size=6000)\n",
    "    labels = training['new_Quality'].values\n",
    "    groups = groups.reshape(-1, 1)\n",
    "    labels = labels.reshape(-1, 1)\n",
    "    matrix1 = np.concatenate([prob1, labels==0, labels==1, labels==2, labels==3, groups], axis=1)\n",
    "    temp_frame = pd.DataFrame(data=matrix1, \n",
    "                              columns=['prob1', 'prob2', 'prob3', 'prob4', 'label1', 'label2', 'label3', 'label4', 'group']\n",
    "                             )\n",
    "    temp_frame = temp_frame.groupby(['group']).mean()\n",
    "    label_matrix = temp_frame[['label1', 'label2', 'label3', 'label4']].values\n",
    "    matrix1 = temp_frame[['prob1', 'prob2', 'prob3', 'prob4']].values\n",
    "    rounded1 = normalize(matrix1)\n",
    "    score1 = np.mean(np.abs(matrix1 - label_matrix))\n",
    "    matrix2 = np.concatenate([prob2, labels==0, labels==1, labels==2, labels==3, groups], axis=1)\n",
    "    temp_frame = pd.DataFrame(data=matrix2, \n",
    "                              columns=['prob1', 'prob2', 'prob3', 'prob4', 'label1', 'label2', 'label3', 'label4', 'group']\n",
    "                             )\n",
    "    temp_frame = temp_frame.groupby(['group']).mean()\n",
    "    matrix2 = temp_frame[['prob1', 'prob2', 'prob3', 'prob4']].values\n",
    "    rounded2 = normalize(matrix2)\n",
    "    score2 = np.mean(np.abs(matrix2 - label_matrix))\n",
    "    mae1 = np.mean(np.abs(matrix1 - matrix2))\n",
    "    mae2 = np.mean(np.abs(rounded1 - rounded2))\n",
    "    return mae1, mae2, 1/(1+10*score1), 1/(1+10*score2)"
   ]
  },
  {
   "cell_type": "code",
   "execution_count": 19,
   "metadata": {},
   "outputs": [],
   "source": [
    "#Seems that the difference is small\n",
    "diff1 = []\n",
    "diff2 = []\n",
    "diff3 = []\n",
    "for _ in range(1000):\n",
    "    mae1, mae2, score1, score2 = compare_score(prob1_1, prob1_2)\n",
    "    diff1.append(mae1)\n",
    "    diff2.append(mae2)\n",
    "    diff3.append(score1 - score2)"
   ]
  },
  {
   "cell_type": "code",
   "execution_count": 20,
   "metadata": {},
   "outputs": [
    {
     "data": {
      "image/png": "[encoded data removed]",
      "text/plain": [
       "<Figure size 432x288 with 1 Axes>"
      ]
     },
     "metadata": {},
     "output_type": "display_data"
    }
   ],
   "source": [
    "plt.hist(diff1, bins=30)\n",
    "plt.axvline(x=np.mean(np.abs(prob3_1 - prob3_2)))\n",
    "plt.show()"
   ]
  },
  {
   "cell_type": "code",
   "execution_count": 21,
   "metadata": {},
   "outputs": [
    {
     "data": {
      "image/png": "[encoded data removed]",
      "text/plain": [
       "<Figure size 432x288 with 1 Axes>"
      ]
     },
     "metadata": {},
     "output_type": "display_data"
    }
   ],
   "source": [
    "plt.hist(diff2, bins=30)\n",
    "plt.axvline(x=np.mean(np.abs(prob4_1 - prob4_2)))\n",
    "plt.show()"
   ]
  },
  {
   "cell_type": "code",
   "execution_count": 22,
   "metadata": {},
   "outputs": [
    {
     "data": {
      "image/png": "[encoded data removed]",
      "text/plain": [
       "<Figure size 432x288 with 1 Axes>"
      ]
     },
     "metadata": {},
     "output_type": "display_data"
    }
   ],
   "source": [
    "plt.hist(diff3, bins=30)\n",
    "plt.axvline(x = 0.67895764000 - 0.68814070000)\n",
    "plt.show()"
   ]
  },
  {
   "cell_type": "code",
   "execution_count": 23,
   "metadata": {},
   "outputs": [],
   "source": [
    "def get_prediction(model, submit=False):\n",
    "    probs = model.predict_proba(test_all[new_features])\n",
    "    testing['Fail ratio'] = 0\n",
    "    testing['Pass ratio'] = 0\n",
    "    testing['Good ratio'] = 0\n",
    "    testing['Excellent ratio'] = 0\n",
    "    testing[['Fail ratio', 'Pass ratio', 'Good ratio', 'Excellent ratio']] = probs\n",
    "    submission = testing.groupby(['Group'], as_index=False).mean()\n",
    "    submission = submission[['Group', 'Excellent ratio', 'Good ratio', 'Pass ratio', 'Fail ratio']]\n",
    "    if submit:\n",
    "        submission.to_csv('submission.csv', index=False)\n",
    "    matrix1 = submission[['Excellent ratio', 'Good ratio', 'Pass ratio', 'Fail ratio']].values.copy()\n",
    "    matrix2 = normalize(matrix1)\n",
    "    submission[['Excellent ratio', 'Good ratio', 'Pass ratio', 'Fail ratio']] = matrix2.copy()\n",
    "    if submit:\n",
    "        submission.to_csv('submission_rounded.csv', index=False)\n",
    "    return matrix1, matrix2"
   ]
  },
  {
   "cell_type": "code",
   "execution_count": 24,
   "metadata": {},
   "outputs": [],
   "source": [
    "_, _ = get_prediction(model1, submit = True)\n",
    "#online score 0.67895764000, this seems to be unstable"
   ]
  },
  {
   "cell_type": "code",
   "execution_count": 25,
   "metadata": {},
   "outputs": [],
   "source": [
    "_, _ = get_prediction(model2, submit = True)\n",
    "#online score 0.68814070000, this seems to be stable?"
   ]
  },
  {
   "cell_type": "code",
   "execution_count": null,
   "metadata": {},
   "outputs": [],
   "source": []
  }
 ],
 "metadata": {
  "kernelspec": {
   "display_name": "Python 3",
   "language": "python",
   "name": "python3"
  },
  "language_info": {
   "codemirror_mode": {
    "name": "ipython",
    "version": 3
   },
   "file_extension": ".py",
   "mimetype": "text/x-python",
   "name": "python",
   "nbconvert_exporter": "python",
   "pygments_lexer": "ipython3",
   "version": "3.6.8"
  }
 },
 "nbformat": 4,
 "nbformat_minor": 2
}
