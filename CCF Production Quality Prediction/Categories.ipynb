{
 "cells": [
  {
   "cell_type": "markdown",
   "metadata": {},
   "source": [
    "In this document we transform Parameter 5~10 to categorical variables and implement target mean encoding and weighted average encoding to see the effect. Here the labels are treated as oridinal varibales."
   ]
  },
  {
   "cell_type": "code",
   "execution_count": 1,
   "metadata": {},
   "outputs": [],
   "source": [
    "import pandas as pd\n",
    "import numpy as np\n",
    "from catboost import CatBoostClassifier\n",
    "from sklearn.model_selection import GridSearchCV, StratifiedKFold\n",
    "from sklearn.metrics import log_loss, accuracy_scoreß\n",
    "from collections import defaultdict\n",
    "\n",
    "import warnings\n",
    "warnings.filterwarnings(\"ignore\")\n",
    "\n",
    "from multiprocessing import Pool"
   ]
  },
  {
   "cell_type": "code",
   "execution_count": 2,
   "metadata": {},
   "outputs": [],
   "source": [
    "# read in data\n",
    "training = pd.read_csv('first_round_training_data.csv')\n",
    "testing = pd.read_csv('first_round_testing_data.csv')\n",
    "features = [\"Parameter5\",\"Parameter6\",\"Parameter7\",\"Parameter8\",\"Parameter9\",\"Parameter10\"]"
   ]
  },
  {
   "cell_type": "code",
   "execution_count": 3,
   "metadata": {},
   "outputs": [],
   "source": [
    "code = {'Pass':1, 'Good':2, 'Excellent':3, 'Fail':0}\n",
    "training['new_Quality'] = training['Quality_label'].apply(lambda x : code[x])"
   ]
  },
  {
   "cell_type": "code",
   "execution_count": 4,
   "metadata": {},
   "outputs": [],
   "source": [
    "def to_category_fit(values):\n",
    "    '''\n",
    "    This function takes a group of values as input and returns a dictionary, whose keys are original values\n",
    "    '''\n",
    "    codebook = defaultdict(lambda : 0)\n",
    "    count = 0\n",
    "    for i in values:\n",
    "        if i not in codebook.keys():\n",
    "            count += 1\n",
    "            codebook[i] = count\n",
    "    return codebook"
   ]
  },
  {
   "cell_type": "code",
   "execution_count": 5,
   "metadata": {},
   "outputs": [],
   "source": [
    "def to_category_apply(values, codebook):\n",
    "    '''\n",
    "    This function takes a group of values and the codebook to use as inputs, returns the encoded variable\n",
    "    This codebook should be the output of to_category_fit()\n",
    "    '''\n",
    "    codes = [codebook[value] for value in values]\n",
    "    return codes"
   ]
  },
  {
   "cell_type": "code",
   "execution_count": 6,
   "metadata": {},
   "outputs": [
    {
     "data": {
      "text/plain": [
       "[1, 2, 2, 2, 2, 3, 4, 5, 5, 6]"
      ]
     },
     "execution_count": 6,
     "metadata": {},
     "output_type": "execute_result"
    }
   ],
   "source": [
    "codebook = to_category_fit(training['Parameter5'])\n",
    "to_category_apply(training['Parameter5'], codebook)[:10]"
   ]
  },
  {
   "cell_type": "code",
   "execution_count": 7,
   "metadata": {},
   "outputs": [],
   "source": [
    "def target_mean_encoding_fit(variable, targets):\n",
    "    '''\n",
    "    This function returns the codebook to target mean encoding of the input categorical variable\n",
    "    Input variable can be integers, strings or values, targets are the labels, which should be float numbers\n",
    "    \n",
    "    It returns the codebook from variable values to its encoding\n",
    "    '''\n",
    "    df = pd.DataFrame({'variable': variable, 'targets':targets})\n",
    "    overall_mean = np.mean(targets)\n",
    "    codebook = defaultdict(lambda : overall_mean)\n",
    "    df = df.groupby(['variable'], as_index=False).agg('mean')\n",
    "    for i in range(df.shape[0]):\n",
    "        codebook[df.iloc[i, 0]] = df.iloc[i, 1]\n",
    "    return codebook"
   ]
  },
  {
   "cell_type": "code",
   "execution_count": 8,
   "metadata": {},
   "outputs": [],
   "source": [
    "def target_mean_encoding_apply(variable, codebook):\n",
    "    '''\n",
    "    This function returns the target mean encoding of the input categorical variable\n",
    "    Input variable can be integers, strings or values, codebook is the rules to follow to get encodings.\n",
    "    This codebook should be the output of traget_mean_encoding_fit()\n",
    "    \n",
    "    It returns the encoded values\n",
    "    '''\n",
    "    result = [codebook[value] for value in variable]\n",
    "    return result"
   ]
  },
  {
   "cell_type": "code",
   "execution_count": 9,
   "metadata": {},
   "outputs": [],
   "source": [
    "def weighted_average_encoding_apply(variable, codebook, k, f):\n",
    "    '''\n",
    "    This function returns the weighted average encoding of the input categorical variable\n",
    "    Input variable can be integers, strings or values, codebook is the rules to follow to get encodings.\n",
    "    This codebook should be the output of target_mean_encoding_fit()\n",
    "    \n",
    "    It returns the encoded values\n",
    "    \n",
    "    Attention: the weight is kind of sensitive the the values, so please make sure\n",
    "    you have normalized the values before using this encoding\n",
    "    '''\n",
    "    overall_mean = codebook['this key cannot exist']\n",
    "    target_means = np.array([codebook[value] for value in variable])\n",
    "    self_weights = 1/(1+np.exp(k-np.array(variable)/f))\n",
    "    result = self_weights * target_means + (1-self_weights) * overall_mean\n",
    "    return result"
   ]
  },
  {
   "cell_type": "code",
   "execution_count": 10,
   "metadata": {},
   "outputs": [
    {
     "data": {
      "text/plain": [
       "[0.7142857142857143,\n",
       " 1.2777777777777777,\n",
       " 1.2777777777777777,\n",
       " 1.2777777777777777,\n",
       " 1.2777777777777777,\n",
       " 1.4027777777777777,\n",
       " 1.691358024691358,\n",
       " 1.7912087912087913,\n",
       " 1.7912087912087913,\n",
       " 1.7619047619047619]"
      ]
     },
     "execution_count": 10,
     "metadata": {},
     "output_type": "execute_result"
    }
   ],
   "source": [
    "codebook = target_mean_encoding_fit(training['Parameter5'], training['new_Quality'])\n",
    "target_mean_encoding_apply(training['Parameter5'], codebook)[:10]"
   ]
  },
  {
   "cell_type": "code",
   "execution_count": 11,
   "metadata": {},
   "outputs": [],
   "source": [
    "#weighted_average_encoding_apply(training['Parameter5'], codebook)[:10]"
   ]
  },
  {
   "cell_type": "code",
   "execution_count": 12,
   "metadata": {},
   "outputs": [],
   "source": [
    "def get_target_mean_encoding(training, validation, col_list, target_name):\n",
    "    '''\n",
    "    Use previous funcionts to transform the columns in col_list to their mean target encoding\n",
    "    The transformation is in both training and validation set\n",
    "    target_name is the name of column which is the label\n",
    "    \n",
    "    Return the transformed training/validation datasets\n",
    "    '''\n",
    "    for column in col_list:\n",
    "        codebook = target_mean_encoding_fit(training[column].values, training[target_name].values)\n",
    "        training.loc[:, column] = target_mean_encoding_apply(training[column], codebook)\n",
    "        validation.loc[:, column] = target_mean_encoding_apply(validation[column], codebook)\n",
    "    \n",
    "    return training, validation"
   ]
  },
  {
   "cell_type": "code",
   "execution_count": 13,
   "metadata": {},
   "outputs": [],
   "source": [
    "def get_weighted_average_encoding(training, validation, col_list, target_name, k, f):\n",
    "    '''\n",
    "    Use previous funcionts to transform the columns in col_list to their mean target encoding\n",
    "    The transformation is in both training and validation set\n",
    "    target_name is the name of column which is the label\n",
    "    k is inflection point and f is steepness\n",
    "    \n",
    "    Return the transformed training/validation datasets\n",
    "    '''\n",
    "    "
   ]
  },
  {
   "cell_type": "code",
   "execution_count": 14,
   "metadata": {},
   "outputs": [],
   "source": [
    "train = training[features + ['new_Quality']]\n",
    "test = testing[features + ['Group']]\n",
    "train, test = get_target_mean_encoding(train, test, features, 'new_Quality')"
   ]
  },
  {
   "cell_type": "code",
   "execution_count": 15,
   "metadata": {},
   "outputs": [
    {
     "data": {
      "text/html": [
       "<div>\n",
       "<style scoped>\n",
       "    .dataframe tbody tr th:only-of-type {\n",
       "        vertical-align: middle;\n",
       "    }\n",
       "\n",
       "    .dataframe tbody tr th {\n",
       "        vertical-align: top;\n",
       "    }\n",
       "\n",
       "    .dataframe thead th {\n",
       "        text-align: right;\n",
       "    }\n",
       "</style>\n",
       "<table border=\"1\" class=\"dataframe\">\n",
       "  <thead>\n",
       "    <tr style=\"text-align: right;\">\n",
       "      <th></th>\n",
       "      <th>Parameter5</th>\n",
       "      <th>Parameter6</th>\n",
       "      <th>Parameter7</th>\n",
       "      <th>Parameter8</th>\n",
       "      <th>Parameter9</th>\n",
       "      <th>Parameter10</th>\n",
       "      <th>new_Quality</th>\n",
       "    </tr>\n",
       "  </thead>\n",
       "  <tbody>\n",
       "    <tr>\n",
       "      <th>0</th>\n",
       "      <td>0.714286</td>\n",
       "      <td>1.000000</td>\n",
       "      <td>1.360000</td>\n",
       "      <td>1.301518</td>\n",
       "      <td>1.368514</td>\n",
       "      <td>1.444444</td>\n",
       "      <td>1</td>\n",
       "    </tr>\n",
       "    <tr>\n",
       "      <th>1</th>\n",
       "      <td>1.277778</td>\n",
       "      <td>1.415094</td>\n",
       "      <td>1.360000</td>\n",
       "      <td>1.301518</td>\n",
       "      <td>1.368514</td>\n",
       "      <td>1.444444</td>\n",
       "      <td>0</td>\n",
       "    </tr>\n",
       "    <tr>\n",
       "      <th>2</th>\n",
       "      <td>1.277778</td>\n",
       "      <td>1.418182</td>\n",
       "      <td>1.360000</td>\n",
       "      <td>1.301518</td>\n",
       "      <td>1.368514</td>\n",
       "      <td>1.444444</td>\n",
       "      <td>0</td>\n",
       "    </tr>\n",
       "    <tr>\n",
       "      <th>3</th>\n",
       "      <td>1.277778</td>\n",
       "      <td>1.415094</td>\n",
       "      <td>1.360000</td>\n",
       "      <td>1.301518</td>\n",
       "      <td>1.368514</td>\n",
       "      <td>1.444444</td>\n",
       "      <td>0</td>\n",
       "    </tr>\n",
       "    <tr>\n",
       "      <th>4</th>\n",
       "      <td>1.277778</td>\n",
       "      <td>1.415094</td>\n",
       "      <td>1.360000</td>\n",
       "      <td>1.301518</td>\n",
       "      <td>1.368514</td>\n",
       "      <td>1.444444</td>\n",
       "      <td>0</td>\n",
       "    </tr>\n",
       "    <tr>\n",
       "      <th>5</th>\n",
       "      <td>1.402778</td>\n",
       "      <td>1.363636</td>\n",
       "      <td>1.360000</td>\n",
       "      <td>1.301518</td>\n",
       "      <td>1.368514</td>\n",
       "      <td>1.444444</td>\n",
       "      <td>2</td>\n",
       "    </tr>\n",
       "    <tr>\n",
       "      <th>6</th>\n",
       "      <td>1.691358</td>\n",
       "      <td>1.476744</td>\n",
       "      <td>1.791259</td>\n",
       "      <td>1.814165</td>\n",
       "      <td>1.431075</td>\n",
       "      <td>1.365079</td>\n",
       "      <td>2</td>\n",
       "    </tr>\n",
       "    <tr>\n",
       "      <th>7</th>\n",
       "      <td>1.791209</td>\n",
       "      <td>1.847826</td>\n",
       "      <td>1.791259</td>\n",
       "      <td>1.814165</td>\n",
       "      <td>1.431075</td>\n",
       "      <td>1.365079</td>\n",
       "      <td>2</td>\n",
       "    </tr>\n",
       "    <tr>\n",
       "      <th>8</th>\n",
       "      <td>1.791209</td>\n",
       "      <td>1.138462</td>\n",
       "      <td>1.791259</td>\n",
       "      <td>1.814165</td>\n",
       "      <td>1.431075</td>\n",
       "      <td>1.365079</td>\n",
       "      <td>1</td>\n",
       "    </tr>\n",
       "    <tr>\n",
       "      <th>9</th>\n",
       "      <td>1.761905</td>\n",
       "      <td>1.346939</td>\n",
       "      <td>1.791259</td>\n",
       "      <td>1.814165</td>\n",
       "      <td>1.431075</td>\n",
       "      <td>1.365079</td>\n",
       "      <td>2</td>\n",
       "    </tr>\n",
       "  </tbody>\n",
       "</table>\n",
       "</div>"
      ],
      "text/plain": [
       "   Parameter5  Parameter6  Parameter7  Parameter8  Parameter9  Parameter10  \\\n",
       "0    0.714286    1.000000    1.360000    1.301518    1.368514     1.444444   \n",
       "1    1.277778    1.415094    1.360000    1.301518    1.368514     1.444444   \n",
       "2    1.277778    1.418182    1.360000    1.301518    1.368514     1.444444   \n",
       "3    1.277778    1.415094    1.360000    1.301518    1.368514     1.444444   \n",
       "4    1.277778    1.415094    1.360000    1.301518    1.368514     1.444444   \n",
       "5    1.402778    1.363636    1.360000    1.301518    1.368514     1.444444   \n",
       "6    1.691358    1.476744    1.791259    1.814165    1.431075     1.365079   \n",
       "7    1.791209    1.847826    1.791259    1.814165    1.431075     1.365079   \n",
       "8    1.791209    1.138462    1.791259    1.814165    1.431075     1.365079   \n",
       "9    1.761905    1.346939    1.791259    1.814165    1.431075     1.365079   \n",
       "\n",
       "   new_Quality  \n",
       "0            1  \n",
       "1            0  \n",
       "2            0  \n",
       "3            0  \n",
       "4            0  \n",
       "5            2  \n",
       "6            2  \n",
       "7            2  \n",
       "8            1  \n",
       "9            2  "
      ]
     },
     "execution_count": 15,
     "metadata": {},
     "output_type": "execute_result"
    }
   ],
   "source": [
    "train[:10]"
   ]
  },
  {
   "cell_type": "code",
   "execution_count": 16,
   "metadata": {},
   "outputs": [
    {
     "data": {
      "text/html": [
       "<div>\n",
       "<style scoped>\n",
       "    .dataframe tbody tr th:only-of-type {\n",
       "        vertical-align: middle;\n",
       "    }\n",
       "\n",
       "    .dataframe tbody tr th {\n",
       "        vertical-align: top;\n",
       "    }\n",
       "\n",
       "    .dataframe thead th {\n",
       "        text-align: right;\n",
       "    }\n",
       "</style>\n",
       "<table border=\"1\" class=\"dataframe\">\n",
       "  <thead>\n",
       "    <tr style=\"text-align: right;\">\n",
       "      <th></th>\n",
       "      <th>Parameter5</th>\n",
       "      <th>Parameter6</th>\n",
       "      <th>Parameter7</th>\n",
       "      <th>Parameter8</th>\n",
       "      <th>Parameter9</th>\n",
       "      <th>Parameter10</th>\n",
       "      <th>Group</th>\n",
       "    </tr>\n",
       "  </thead>\n",
       "  <tbody>\n",
       "    <tr>\n",
       "      <th>0</th>\n",
       "      <td>1.791209</td>\n",
       "      <td>1.816667</td>\n",
       "      <td>1.670707</td>\n",
       "      <td>1.691781</td>\n",
       "      <td>1.836601</td>\n",
       "      <td>1.484333</td>\n",
       "      <td>0</td>\n",
       "    </tr>\n",
       "    <tr>\n",
       "      <th>1</th>\n",
       "      <td>0.500000</td>\n",
       "      <td>1.206897</td>\n",
       "      <td>1.791259</td>\n",
       "      <td>1.012270</td>\n",
       "      <td>0.963576</td>\n",
       "      <td>1.580000</td>\n",
       "      <td>0</td>\n",
       "    </tr>\n",
       "    <tr>\n",
       "      <th>2</th>\n",
       "      <td>0.500000</td>\n",
       "      <td>1.206897</td>\n",
       "      <td>1.791259</td>\n",
       "      <td>1.012270</td>\n",
       "      <td>0.963576</td>\n",
       "      <td>1.580000</td>\n",
       "      <td>0</td>\n",
       "    </tr>\n",
       "    <tr>\n",
       "      <th>3</th>\n",
       "      <td>1.484333</td>\n",
       "      <td>1.847826</td>\n",
       "      <td>1.670707</td>\n",
       "      <td>1.814165</td>\n",
       "      <td>1.484333</td>\n",
       "      <td>1.365079</td>\n",
       "      <td>0</td>\n",
       "    </tr>\n",
       "    <tr>\n",
       "      <th>4</th>\n",
       "      <td>1.521739</td>\n",
       "      <td>1.476744</td>\n",
       "      <td>1.670707</td>\n",
       "      <td>1.814165</td>\n",
       "      <td>1.484333</td>\n",
       "      <td>1.365079</td>\n",
       "      <td>0</td>\n",
       "    </tr>\n",
       "    <tr>\n",
       "      <th>5</th>\n",
       "      <td>1.521739</td>\n",
       "      <td>1.476744</td>\n",
       "      <td>1.670707</td>\n",
       "      <td>1.814165</td>\n",
       "      <td>1.484333</td>\n",
       "      <td>1.365079</td>\n",
       "      <td>0</td>\n",
       "    </tr>\n",
       "    <tr>\n",
       "      <th>6</th>\n",
       "      <td>1.792453</td>\n",
       "      <td>1.476744</td>\n",
       "      <td>1.670707</td>\n",
       "      <td>1.814165</td>\n",
       "      <td>1.484333</td>\n",
       "      <td>1.365079</td>\n",
       "      <td>0</td>\n",
       "    </tr>\n",
       "    <tr>\n",
       "      <th>7</th>\n",
       "      <td>1.792453</td>\n",
       "      <td>1.476744</td>\n",
       "      <td>1.670707</td>\n",
       "      <td>1.814165</td>\n",
       "      <td>1.484333</td>\n",
       "      <td>1.365079</td>\n",
       "      <td>0</td>\n",
       "    </tr>\n",
       "    <tr>\n",
       "      <th>8</th>\n",
       "      <td>1.521739</td>\n",
       "      <td>1.875000</td>\n",
       "      <td>1.670707</td>\n",
       "      <td>1.814165</td>\n",
       "      <td>1.484333</td>\n",
       "      <td>1.365079</td>\n",
       "      <td>0</td>\n",
       "    </tr>\n",
       "    <tr>\n",
       "      <th>9</th>\n",
       "      <td>1.521739</td>\n",
       "      <td>1.476744</td>\n",
       "      <td>1.670707</td>\n",
       "      <td>1.814165</td>\n",
       "      <td>1.484333</td>\n",
       "      <td>1.365079</td>\n",
       "      <td>0</td>\n",
       "    </tr>\n",
       "  </tbody>\n",
       "</table>\n",
       "</div>"
      ],
      "text/plain": [
       "   Parameter5  Parameter6  Parameter7  Parameter8  Parameter9  Parameter10  \\\n",
       "0    1.791209    1.816667    1.670707    1.691781    1.836601     1.484333   \n",
       "1    0.500000    1.206897    1.791259    1.012270    0.963576     1.580000   \n",
       "2    0.500000    1.206897    1.791259    1.012270    0.963576     1.580000   \n",
       "3    1.484333    1.847826    1.670707    1.814165    1.484333     1.365079   \n",
       "4    1.521739    1.476744    1.670707    1.814165    1.484333     1.365079   \n",
       "5    1.521739    1.476744    1.670707    1.814165    1.484333     1.365079   \n",
       "6    1.792453    1.476744    1.670707    1.814165    1.484333     1.365079   \n",
       "7    1.792453    1.476744    1.670707    1.814165    1.484333     1.365079   \n",
       "8    1.521739    1.875000    1.670707    1.814165    1.484333     1.365079   \n",
       "9    1.521739    1.476744    1.670707    1.814165    1.484333     1.365079   \n",
       "\n",
       "   Group  \n",
       "0      0  \n",
       "1      0  \n",
       "2      0  \n",
       "3      0  \n",
       "4      0  \n",
       "5      0  \n",
       "6      0  \n",
       "7      0  \n",
       "8      0  \n",
       "9      0  "
      ]
     },
     "execution_count": 16,
     "metadata": {},
     "output_type": "execute_result"
    }
   ],
   "source": [
    "test[:10]"
   ]
  },
  {
   "cell_type": "code",
   "execution_count": 17,
   "metadata": {},
   "outputs": [],
   "source": [
    "N = 5\n",
    "\n",
    "skf = StratifiedKFold(n_splits=N)\n",
    "indices = []\n",
    "for train_index, test_index in skf.split(train[features], train[['new_Quality']]):\n",
    "    indices.append([train_index, test_index])"
   ]
  },
  {
   "cell_type": "code",
   "execution_count": 18,
   "metadata": {},
   "outputs": [],
   "source": [
    "def my_CV(i):\n",
    "    train_index = indices[i][0]\n",
    "    test_index = indices[i][1]\n",
    "    model = CatBoostClassifier(iterations=2000, \n",
    "                               depth=8, \n",
    "                               learning_rate=0.005, \n",
    "                               silent=True, \n",
    "                               loss_function='MultiClass', \n",
    "                               random_state=666)\n",
    "    X = train.loc[train_index, features]\n",
    "    y = train.loc[train_index, ['new_Quality']]\n",
    "    model.fit(X, y)\n",
    "    X = train.loc[test_index, features]\n",
    "    y = train.loc[test_index, ['new_Quality']]\n",
    "    probs = model.predict_proba(X)\n",
    "    neg_log_loss = -log_loss(y, probs)\n",
    "    predictions = model.predict(X)\n",
    "    accuracy = accuracy_score(y, predictions)\n",
    "    return (accuracy, neg_log_loss)"
   ]
  },
  {
   "cell_type": "code",
   "execution_count": 19,
   "metadata": {},
   "outputs": [
    {
     "data": {
      "text/plain": [
       "array([ 0.50082029, -1.14111656])"
      ]
     },
     "execution_count": 19,
     "metadata": {},
     "output_type": "execute_result"
    }
   ],
   "source": [
    "pool = Pool(processes = 8)\n",
    "results = pool.map(my_CV, range(N))\n",
    "np.mean(np.array(results), axis=0)"
   ]
  },
  {
   "cell_type": "code",
   "execution_count": 20,
   "metadata": {},
   "outputs": [
    {
     "data": {
      "text/plain": [
       "[0.50398821, -1.13970718]"
      ]
     },
     "execution_count": 20,
     "metadata": {},
     "output_type": "execute_result"
    }
   ],
   "source": [
    "[ 0.50149112, -1.14072467] # 2000, 10, 0.005\n",
    "[ 0.4993175 , -1.14390057] # 2000, 10, 0.01\n",
    "[ 0.50265168, -1.14782422] # 2500, 10, 0.01\n",
    "[ 0.50232307, -1.14001423] # 2500, 10, 0.005\n",
    "[ 0.50281834, -1.14255961] # 2000, 8, 0.01\n",
    "[ 0.48865443, -1.16249407] # 2500, 10, 0.001\n",
    "[ 0.50398821, -1.13970718] # 2500, 8, 0.005"
   ]
  },
  {
   "cell_type": "code",
   "execution_count": 21,
   "metadata": {},
   "outputs": [
    {
     "name": "stdout",
     "output_type": "stream",
     "text": [
      "0:\tlearn: 1.3836406\ttotal: 87.9ms\tremaining: 3m 39s\n",
      "100:\tlearn: 1.2319390\ttotal: 3.36s\tremaining: 1m 19s\n",
      "200:\tlearn: 1.1655877\ttotal: 6.58s\tremaining: 1m 15s\n",
      "300:\tlearn: 1.1316289\ttotal: 9.81s\tremaining: 1m 11s\n",
      "400:\tlearn: 1.1119287\ttotal: 13.1s\tremaining: 1m 8s\n",
      "500:\tlearn: 1.0991515\ttotal: 16.2s\tremaining: 1m 4s\n",
      "600:\tlearn: 1.0898771\ttotal: 19.4s\tremaining: 1m 1s\n",
      "700:\tlearn: 1.0831931\ttotal: 22.4s\tremaining: 57.6s\n",
      "800:\tlearn: 1.0779284\ttotal: 25.4s\tremaining: 54s\n",
      "900:\tlearn: 1.0734154\ttotal: 28.6s\tremaining: 50.8s\n",
      "1000:\tlearn: 1.0697117\ttotal: 31.8s\tremaining: 47.6s\n",
      "1100:\tlearn: 1.0662009\ttotal: 34.9s\tremaining: 44.3s\n",
      "1200:\tlearn: 1.0629203\ttotal: 37.9s\tremaining: 41s\n",
      "1300:\tlearn: 1.0599304\ttotal: 41s\tremaining: 37.8s\n",
      "1400:\tlearn: 1.0572551\ttotal: 44s\tremaining: 34.5s\n",
      "1500:\tlearn: 1.0546755\ttotal: 47.1s\tremaining: 31.3s\n",
      "1600:\tlearn: 1.0521720\ttotal: 50.1s\tremaining: 28.1s\n",
      "1700:\tlearn: 1.0499307\ttotal: 53.2s\tremaining: 25s\n",
      "1800:\tlearn: 1.0476922\ttotal: 56.3s\tremaining: 21.9s\n",
      "1900:\tlearn: 1.0457424\ttotal: 59.3s\tremaining: 18.7s\n",
      "2000:\tlearn: 1.0436617\ttotal: 1m 2s\tremaining: 15.5s\n",
      "2100:\tlearn: 1.0415324\ttotal: 1m 5s\tremaining: 12.4s\n",
      "2200:\tlearn: 1.0392862\ttotal: 1m 8s\tremaining: 9.31s\n",
      "2300:\tlearn: 1.0369281\ttotal: 1m 11s\tremaining: 6.21s\n",
      "2400:\tlearn: 1.0345743\ttotal: 1m 15s\tremaining: 3.1s\n",
      "2499:\tlearn: 1.0324607\ttotal: 1m 18s\tremaining: 0us\n"
     ]
    }
   ],
   "source": [
    "clf = CatBoostClassifier(iterations=2500, depth=8, learning_rate=0.005, verbose=100, loss_function='MultiClass', random_state=666)\n",
    "clf.fit(training[features], training['new_Quality'])\n",
    "probs = clf.predict_proba(testing[features])\n",
    "testing['prob_Fail'] = 0\n",
    "testing['prob_Pass'] = 0\n",
    "testing['prob_Good'] = 0\n",
    "testing['prob_Excellent'] = 0\n",
    "testing.loc[:,['prob_Fail','prob_Pass','prob_Good','prob_Excellent']] = probs"
   ]
  },
  {
   "cell_type": "code",
   "execution_count": 22,
   "metadata": {},
   "outputs": [],
   "source": [
    "prediction = testing.groupby(['Group'],as_index=False)['prob_Excellent','prob_Good','prob_Pass','prob_Fail'].mean()\n",
    "prediction.columns = ['Group','Excellent ratio','Good ratio','Pass ratio','Fail ratio']\n",
    "prediction.to_csv('category.csv',index=False)"
   ]
  },
  {
   "cell_type": "code",
   "execution_count": null,
   "metadata": {},
   "outputs": [],
   "source": []
  }
 ],
 "metadata": {
  "kernelspec": {
   "display_name": "Python 3",
   "language": "python",
   "name": "python3"
  },
  "language_info": {
   "codemirror_mode": {
    "name": "ipython",
    "version": 3
   },
   "file_extension": ".py",
   "mimetype": "text/x-python",
   "name": "python",
   "nbconvert_exporter": "python",
   "pygments_lexer": "ipython3",
   "version": "3.6.8"
  }
 },
 "nbformat": 4,
 "nbformat_minor": 2
}
